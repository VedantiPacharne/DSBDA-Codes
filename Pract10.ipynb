{
 "cells": [
  {
   "cell_type": "code",
   "execution_count": 8,
   "id": "cda397bc-5c00-4524-a271-79227e70359f",
   "metadata": {},
   "outputs": [
    {
     "name": "stderr",
     "output_type": "stream",
     "text": [
      "[nltk_data] Downloading package punkt to\n",
      "[nltk_data]     C:\\Users\\HP\\AppData\\Roaming\\nltk_data...\n",
      "[nltk_data]   Package punkt is already up-to-date!\n"
     ]
    },
    {
     "data": {
      "text/plain": [
       "True"
      ]
     },
     "execution_count": 8,
     "metadata": {},
     "output_type": "execute_result"
    }
   ],
   "source": [
    "\n",
    "\n",
    "\n"
   ]
  },
  {
   "cell_type": "code",
   "execution_count": 11,
   "id": "644f1d8f-61bd-414e-8692-a93b467f4d54",
   "metadata": {},
   "outputs": [],
   "source": [
    "import nltk\n",
    "from nltk.tokenize import word_tokenize\n",
    "from nltk import pos_tag"
   ]
  },
  {
   "cell_type": "code",
   "execution_count": 12,
   "id": "e0c2a9cf-851a-443f-91a9-4759bb9889a9",
   "metadata": {},
   "outputs": [
    {
     "name": "stderr",
     "output_type": "stream",
     "text": [
      "[nltk_data] Downloading package punkt_tab to\n",
      "[nltk_data]     C:\\Users\\HP\\AppData\\Roaming\\nltk_data...\n",
      "[nltk_data]   Unzipping tokenizers\\punkt_tab.zip.\n",
      "[nltk_data] Downloading package averaged_perceptron_tagger_eng to\n",
      "[nltk_data]     C:\\Users\\HP\\AppData\\Roaming\\nltk_data...\n",
      "[nltk_data]   Unzipping taggers\\averaged_perceptron_tagger_eng.zip.\n",
      "[nltk_data] Downloading package stopwords to\n",
      "[nltk_data]     C:\\Users\\HP\\AppData\\Roaming\\nltk_data...\n",
      "[nltk_data]   Package stopwords is already up-to-date!\n",
      "[nltk_data] Downloading package wordnet to\n",
      "[nltk_data]     C:\\Users\\HP\\AppData\\Roaming\\nltk_data...\n",
      "[nltk_data]   Package wordnet is already up-to-date!\n",
      "[nltk_data] Downloading package omw-1.4 to\n",
      "[nltk_data]     C:\\Users\\HP\\AppData\\Roaming\\nltk_data...\n",
      "[nltk_data]   Package omw-1.4 is already up-to-date!\n"
     ]
    },
    {
     "data": {
      "text/plain": [
       "True"
      ]
     },
     "execution_count": 12,
     "metadata": {},
     "output_type": "execute_result"
    }
   ],
   "source": [
    "nltk.download('punkt_tab')\n",
    "nltk.download('averaged_perceptron_tagger_eng')\n",
    "nltk.download('stopwords')\n",
    "nltk.download('wordnet')\n",
    "nltk.download('omw-1.4')"
   ]
  },
  {
   "cell_type": "code",
   "execution_count": 13,
   "id": "248c5cef-87e9-4edf-9e58-590605cb80ce",
   "metadata": {},
   "outputs": [],
   "source": [
    "document=\"\"\"Machine learning is the science of getting computers to learn from data without being explicitly programmed.\n",
    "It is a branch of artificial intelligence based on the idea that systems can learn from data, identify patterns and make decisions with minimal human intervention.\"\"\""
   ]
  },
  {
   "cell_type": "code",
   "execution_count": 14,
   "id": "b0a62f78-baaa-4b6c-82f4-c3cd73521666",
   "metadata": {},
   "outputs": [
    {
     "name": "stdout",
     "output_type": "stream",
     "text": [
      "['Machine', 'learning', 'is', 'the', 'science', 'of', 'getting', 'computers', 'to', 'learn', 'from', 'data', 'without', 'being', 'explicitly', 'programmed', '.', 'It', 'is', 'a', 'branch', 'of', 'artificial', 'intelligence', 'based', 'on', 'the', 'idea', 'that', 'systems', 'can', 'learn', 'from', 'data', ',', 'identify', 'patterns', 'and', 'make', 'decisions', 'with', 'minimal', 'human', 'intervention', '.']\n"
     ]
    }
   ],
   "source": [
    "tokens=word_tokenize(document)\n",
    "print(tokens)"
   ]
  },
  {
   "cell_type": "code",
   "execution_count": 15,
   "id": "58c54323-e89c-4091-872f-01950d05f674",
   "metadata": {},
   "outputs": [
    {
     "name": "stdout",
     "output_type": "stream",
     "text": [
      "[('Machine', 'NN'), ('learning', 'NN'), ('is', 'VBZ'), ('the', 'DT'), ('science', 'NN'), ('of', 'IN'), ('getting', 'VBG'), ('computers', 'NNS'), ('to', 'TO'), ('learn', 'VB'), ('from', 'IN'), ('data', 'NNS'), ('without', 'IN'), ('being', 'VBG'), ('explicitly', 'RB'), ('programmed', 'VBN'), ('.', '.'), ('It', 'PRP'), ('is', 'VBZ'), ('a', 'DT'), ('branch', 'NN'), ('of', 'IN'), ('artificial', 'JJ'), ('intelligence', 'NN'), ('based', 'VBN'), ('on', 'IN'), ('the', 'DT'), ('idea', 'NN'), ('that', 'IN'), ('systems', 'NNS'), ('can', 'MD'), ('learn', 'VB'), ('from', 'IN'), ('data', 'NNS'), (',', ','), ('identify', 'NN'), ('patterns', 'NNS'), ('and', 'CC'), ('make', 'VB'), ('decisions', 'NNS'), ('with', 'IN'), ('minimal', 'JJ'), ('human', 'JJ'), ('intervention', 'NN'), ('.', '.')]\n"
     ]
    }
   ],
   "source": [
    "posts=pos_tag(tokens)\n",
    "print(posts)"
   ]
  },
  {
   "cell_type": "code",
   "execution_count": 16,
   "id": "311491e0-dd8d-455c-9b54-2ca3d55de873",
   "metadata": {},
   "outputs": [],
   "source": [
    "from nltk.corpus import stopwords"
   ]
  },
  {
   "cell_type": "code",
   "execution_count": 17,
   "id": "f5a16d46-fe51-4606-9e72-acf6f9d89e3f",
   "metadata": {},
   "outputs": [
    {
     "name": "stdout",
     "output_type": "stream",
     "text": [
      "['Machine', 'learning', 'science', 'getting', 'computers', 'learn', 'data', 'without', 'explicitly', 'programmed', 'branch', 'artificial', 'intelligence', 'based', 'idea', 'systems', 'learn', 'data', 'identify', 'patterns', 'make', 'decisions', 'minimal', 'human', 'intervention']\n"
     ]
    }
   ],
   "source": [
    "stop=set(stopwords.words('english'))\n",
    "filtered=[word for word in tokens if word.lower() not in stop and word.isalpha()]\n",
    "print(filtered)"
   ]
  },
  {
   "cell_type": "code",
   "execution_count": 18,
   "id": "23e99adb-cbf7-4149-903a-322b2d84d471",
   "metadata": {},
   "outputs": [],
   "source": [
    "from nltk.stem import PorterStemmer, WordNetLemmatizer"
   ]
  },
  {
   "cell_type": "code",
   "execution_count": 19,
   "id": "1ca7257b-eeeb-4755-b5bc-f05ede5e99d4",
   "metadata": {},
   "outputs": [
    {
     "name": "stdout",
     "output_type": "stream",
     "text": [
      "['machin', 'learn', 'scienc', 'get', 'comput', 'learn', 'data', 'without', 'explicitli', 'program', 'branch', 'artifici', 'intellig', 'base', 'idea', 'system', 'learn', 'data', 'identifi', 'pattern', 'make', 'decis', 'minim', 'human', 'intervent']\n"
     ]
    }
   ],
   "source": [
    "stemmer=PorterStemmer()\n",
    "stemmed=[stemmer.stem(word) for word in filtered]\n",
    "print(stemmed)"
   ]
  },
  {
   "cell_type": "code",
   "execution_count": 20,
   "id": "cb3c34d4-99b4-401b-aa60-9d52b21aab70",
   "metadata": {},
   "outputs": [
    {
     "name": "stdout",
     "output_type": "stream",
     "text": [
      "['Machine', 'learning', 'science', 'getting', 'computer', 'learn', 'data', 'without', 'explicitly', 'programmed', 'branch', 'artificial', 'intelligence', 'based', 'idea', 'system', 'learn', 'data', 'identify', 'pattern', 'make', 'decision', 'minimal', 'human', 'intervention']\n"
     ]
    }
   ],
   "source": [
    "lem=WordNetLemmatizer()\n",
    "lems=[lem.lemmatize(word) for word in filtered]\n",
    "print(lems)"
   ]
  },
  {
   "cell_type": "code",
   "execution_count": 21,
   "id": "663b50e2-8f8b-406f-a3da-813ae8c13f5c",
   "metadata": {},
   "outputs": [],
   "source": [
    "from sklearn.feature_extraction.text import TfidfVectorizer"
   ]
  },
  {
   "cell_type": "code",
   "execution_count": 22,
   "id": "5a7520e6-ca0e-4fdf-95e3-879df55b2504",
   "metadata": {},
   "outputs": [],
   "source": [
    "documents = [\n",
    "    \"Machine learning is a branch of artificial intelligence.\",\n",
    "    \"It allows computers to learn from data.\",\n",
    "    \"Artificial intelligence and data science are evolving fields.\",\n",
    "]\n"
   ]
  },
  {
   "cell_type": "code",
   "execution_count": 23,
   "id": "c00bc70d-eff4-437a-85cd-6b9214011ca7",
   "metadata": {},
   "outputs": [],
   "source": [
    "vectorizer=TfidfVectorizer()\n",
    "matrix=vectorizer.fit_transform(documents)"
   ]
  },
  {
   "cell_type": "code",
   "execution_count": 24,
   "id": "473a850e-c3e6-47d5-ad67-9fbcd1959d97",
   "metadata": {},
   "outputs": [],
   "source": [
    "import pandas as pd"
   ]
  },
  {
   "cell_type": "code",
   "execution_count": 25,
   "id": "2def0e8b-a425-4dea-9d0c-9e910f628706",
   "metadata": {},
   "outputs": [],
   "source": [
    "dataframe=pd.DataFrame(matrix.toarray(),columns=vectorizer.get_feature_names_out())"
   ]
  },
  {
   "cell_type": "code",
   "execution_count": 26,
   "id": "fccfe013-66ce-4b0f-8844-797919576958",
   "metadata": {},
   "outputs": [
    {
     "name": "stdout",
     "output_type": "stream",
     "text": [
      "     allows       and       are  artificial    branch  computers      data  \\\n",
      "0  0.000000  0.000000  0.000000    0.306504  0.403016   0.000000  0.000000   \n",
      "1  0.389888  0.000000  0.000000    0.000000  0.000000   0.389888  0.296520   \n",
      "2  0.000000  0.385323  0.385323    0.293048  0.000000   0.000000  0.293048   \n",
      "\n",
      "   evolving    fields      from  intelligence        is        it     learn  \\\n",
      "0  0.000000  0.000000  0.000000      0.306504  0.403016  0.000000  0.000000   \n",
      "1  0.000000  0.000000  0.389888      0.000000  0.000000  0.389888  0.389888   \n",
      "2  0.385323  0.385323  0.000000      0.293048  0.000000  0.000000  0.000000   \n",
      "\n",
      "   learning   machine        of   science        to  \n",
      "0  0.403016  0.403016  0.403016  0.000000  0.000000  \n",
      "1  0.000000  0.000000  0.000000  0.000000  0.389888  \n",
      "2  0.000000  0.000000  0.000000  0.385323  0.000000  \n"
     ]
    }
   ],
   "source": [
    "print(dataframe)"
   ]
  },
  {
   "cell_type": "code",
   "execution_count": null,
   "id": "80079586-496f-4df3-a1eb-eac1a7051a7b",
   "metadata": {},
   "outputs": [],
   "source": [
    "\n",
    "\n"
   ]
  }
 ],
 "metadata": {
  "kernelspec": {
   "display_name": "Python 3 (ipykernel)",
   "language": "python",
   "name": "python3"
  },
  "language_info": {
   "codemirror_mode": {
    "name": "ipython",
    "version": 3
   },
   "file_extension": ".py",
   "mimetype": "text/x-python",
   "name": "python",
   "nbconvert_exporter": "python",
   "pygments_lexer": "ipython3",
   "version": "3.12.7"
  }
 },
 "nbformat": 4,
 "nbformat_minor": 5
}
